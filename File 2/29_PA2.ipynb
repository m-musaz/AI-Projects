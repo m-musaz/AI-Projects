{
 "cells": [
  {
   "attachments": {},
   "cell_type": "markdown",
   "metadata": {},
   "source": [
    "# Intro to AI (CS331): Project 2\n",
    "#### Name: \n",
    "#### Roll Number: "
   ]
  },
  {
   "cell_type": "code",
   "execution_count": 241,
   "metadata": {},
   "outputs": [],
   "source": [
    "import numpy as np\n",
    "import matplotlib.pyplot as plt\n",
    "import pylab as pl\n",
    "import pandas as pd\n",
    "from sklearn import svm, datasets\n",
    "from sklearn.preprocessing import PolynomialFeatures\n",
    "from sklearn.linear_model import LinearRegression\n",
    "from sklearn.model_selection import train_test_split"
   ]
  },
  {
   "attachments": {},
   "cell_type": "markdown",
   "metadata": {},
   "source": [
    "# Regression\n",
    "## Dataset [5 marks]"
   ]
  },
  {
   "attachments": {},
   "cell_type": "markdown",
   "metadata": {},
   "source": [
    "### Loading the Dataset\n",
    "Let's start by loading the dataset. For this part, we will use the `bike_hour.csv`. Load the daataset into a dataframe using the Pandas library."
   ]
  },
  {
   "cell_type": "code",
   "execution_count": 242,
   "metadata": {},
   "outputs": [],
   "source": [
    "# code here\n",
    "bikes_df = pd.read_csv('bike_hour.csv')"
   ]
  },
  {
   "attachments": {},
   "cell_type": "markdown",
   "metadata": {},
   "source": [
    "### Cleaning the Dataset\n",
    "Make sure there are no NaN or null values in the dataset. If there are any, remove those rows."
   ]
  },
  {
   "cell_type": "code",
   "execution_count": 243,
   "metadata": {},
   "outputs": [],
   "source": [
    "# code here\n",
    "bikes_df.dropna(inplace = True)"
   ]
  },
  {
   "attachments": {},
   "cell_type": "markdown",
   "metadata": {},
   "source": [
    "## Polynomial Regression by Least Squares [20 marks]"
   ]
  },
  {
   "attachments": {},
   "cell_type": "markdown",
   "metadata": {},
   "source": [
    "In this part, we are going to use pseudo-inverse, bias error and variance error, to find the best fit equation for our dataset. We are going to make use of the equation:\n",
    "$$\n",
    "    w = (A^TA)^{-1}A^Ty\n",
    "$$\n",
    "We already have our dataset. For this question, we are going to focus on univariate polynomial regression, so lets select on feature from our dataset that we are going to use and split it into training and test datasets."
   ]
  },
  {
   "cell_type": "code",
   "execution_count": 244,
   "metadata": {},
   "outputs": [
    {
     "data": {
      "text/plain": [
       "[<matplotlib.lines.Line2D at 0x7f5277d918a0>]"
      ]
     },
     "execution_count": 244,
     "metadata": {},
     "output_type": "execute_result"
    },
    {
     "data": {
      "image/png": "[encoded data removed]",
      "text/plain": [
       "<Figure size 640x480 with 1 Axes>"
      ]
     },
     "metadata": {},
     "output_type": "display_data"
    }
   ],
   "source": [
    "# write the code to extract the number of bikes rented and the \"atemp\" feature from the dataset.\n",
    "# Do a 70 30 split to make test and train datasets.\n",
    "\n",
    "# n = bikes_df['atemp']\n",
    "\n",
    "atemp=bikes_df[['atemp']]\n",
    "numBikes=bikes_df[['cnt']]\n",
    "\n",
    "len_train=int(0.7*len(atemp)+1)\n",
    "len_test=int(0.3*len(atemp))\n",
    "\n",
    "\n",
    "\n",
    "atemp_train=atemp[0:len_train]\n",
    "atemp_test=atemp[len_train:]\n",
    "numBikes_train=numBikes[0:len_train]\n",
    "numBikes_test=numBikes[len_train:]\n",
    "\n",
    "atemp_train=atemp_train.to_numpy()\n",
    "atemp_train=atemp_train.reshape(-1,1)\n",
    "\n",
    "\n",
    "numBikes_train=numBikes_train.to_numpy()\n",
    "numBikes_train=numBikes_train.reshape(-1,1)\n",
    "\n",
    "\n",
    "atemp_test=atemp_test.to_numpy()\n",
    "atemp_test=atemp_test.reshape(-1,1)\n",
    "\n",
    "\n",
    "numBikes_test=numBikes_test.to_numpy()\n",
    "numBikes_test=numBikes_test.reshape(-1,1)\n",
    "\n",
    "bias_list = []\n",
    "variance_list = []\n",
    "\n",
    "biased_error=[]\n",
    "theta=[]\n",
    "\n",
    "\n",
    "\n",
    "for index in range(1, 21): \n",
    "    a_matrix = np.ones((len(atemp_train), index+1)) \n",
    "    \n",
    "    y_hat = np.zeros(len(atemp_train)) \n",
    "    for x in range(index+1): \n",
    "        a_matrix[:,x:x+1]= (atemp_train**x)\n",
    "   \n",
    "    w_matrix =np.array(np.linalg.inv(a_matrix.transpose() @ a_matrix) @ a_matrix.transpose() @ numBikes_train) \n",
    "    theta.append(w_matrix)\n",
    "   \n",
    "    y_hat=y_hat.reshape(-1,1)\n",
    "    for x in range(index+1): \n",
    "        tempmat=w_matrix[x] * ( atemp_train**x )\n",
    "        y_hat += (w_matrix[x] * ( atemp_train**x ) ) \n",
    "\n",
    "    error_value=numBikes_train-y_hat \n",
    "    error_value =(error_value**2) \n",
    "    bias_list.append(error_value.sum()/(index+1) )\n",
    "\n",
    "# print(w_matrix.shape)\n",
    "# print(w_matrix)\n",
    "# print(theta)\n",
    "\n",
    "for index in range(1, 21): \n",
    "    a_matrix_test= np.ones((len(atemp_test), index+1)) \n",
    "    y_hat_test = np.zeros(len(atemp_test)) \n",
    "    for x in range(index+1): \n",
    "        a_matrix_test[:,x:x+1]= (atemp_test**x)\n",
    "    \n",
    "    w_matrix=theta[index-1]\n",
    "    y_hat_test=y_hat_test.reshape(-1,1)\n",
    "    for x in range(index+1): \n",
    "        tempmat=w_matrix[x] * ( atemp_test**x )\n",
    "        y_hat_test += (w_matrix[x] * ( atemp_test**x ) ) \n",
    "\n",
    "    variance_error_value=numBikes_test-y_hat_test \n",
    "    variance_error_value =(variance_error_value**2) \n",
    "    variance_list.append(variance_error_value.sum()/(index+1) )\n",
    "\n",
    "variance_list.reverse()\n",
    "\n",
    "\n",
    "# print(variance_list)\n",
    "M_list = list(range(1,21))\n",
    "plt.plot(M_list,bias_list,'-',color='red')\n",
    "plt.plot(M_list,variance_list,'-',color='blue')\n",
    "# # # plt.ylim(25000,30000)\n",
    "# plt.show()\n",
    "# print(bias_list)\n",
    "\n",
    "\n",
    "\n"
   ]
  },
  {
   "attachments": {},
   "cell_type": "markdown",
   "metadata": {},
   "source": [
    "Now that we have our dataset, use it to make a graph of variance loss (test loss) and bias loss (training loss), using the equation given above. Do this for polynomials 1: ($y = a+bx$) till 20 ($y = a+  bx + cx^2 + ... + ux^{20}$) The reuslting graph you get should resemeble the one shown in the manual."
   ]
  },
  {
   "cell_type": "code",
   "execution_count": 245,
   "metadata": {},
   "outputs": [],
   "source": [
    "# code here"
   ]
  },
  {
   "attachments": {},
   "cell_type": "markdown",
   "metadata": {},
   "source": [
    "QUESTION: Which polynomial is most optimal to use for this dataset? Explain your choice and mention both bias and variance losses for this polynomial. "
   ]
  },
  {
   "attachments": {},
   "cell_type": "markdown",
   "metadata": {},
   "source": [
    "### ANSWER here: The X^10 Polynomial is most optimal since the point where bias and variance lines meet is the optimal to use for this data set. Loss = 0.25x1e^8\n"
   ]
  },
  {
   "attachments": {},
   "cell_type": "markdown",
   "metadata": {},
   "source": [
    "## Linear Regression by Gradient Descent [15 marks]\n",
    "You are now going to implement linear regression using gradient descent. Unlike in the above part, your regression is now linerar but should work for any number of variables (multivariate liner regression). For this part, start by using the complete dataframe with all teh features instead of just one feature, as we did in the above part. "
   ]
  },
  {
   "cell_type": "code",
   "execution_count": 246,
   "metadata": {},
   "outputs": [],
   "source": [
    "# if you need to load the complete dataframe again or call it again, do so here"
   ]
  },
  {
   "attachments": {},
   "cell_type": "markdown",
   "metadata": {},
   "source": [
    "Let us start by removing any features (columns), which will not be useful for us. From the complete dataframe, remove the columns that you think are not going to be useful for regression. In the markdown cell, **EXPLAIN  your choice** behind removing the columns that you did."
   ]
  },
  {
   "cell_type": "code",
   "execution_count": 247,
   "metadata": {},
   "outputs": [],
   "source": [
    "bikes_df.dropna(inplace = True)\n",
    "\n",
    "bikes_df=bikes_df.drop([\"dteday\",\"holiday\",\"weekday\",\"workingday\",\"weathersit\",\"hum\",\"windspeed\",\"instant\"],axis=1)\n",
    "y_values=bikes_df[['cnt']]\n",
    "# bikes_df=bikes_df[[\"atemp\",\"casual\",\"registered\"]]\n",
    "# print(bikes_df)\n",
    "\n",
    "bikes_df=bikes_df.drop([\"cnt\"],axis=1)"
   ]
  },
  {
   "attachments": {},
   "cell_type": "markdown",
   "metadata": {},
   "source": [
    "#### ANSWER here: we computed correlations coefficients. those features that had negligible correlation are removed"
   ]
  },
  {
   "attachments": {},
   "cell_type": "markdown",
   "metadata": {},
   "source": [
    "### Splitting the dataset\n",
    "Similar to as you already did, make an 70 30 split to divide the dataset into training and test dataset. If you want, you can use inbuilt libraries for this.\n",
    "Also divide the datasets into features and labels, which will results in 4 variables: X_train, Y_train, X_test, Y_test (you can use different names if you want)"
   ]
  },
  {
   "cell_type": "code",
   "execution_count": 248,
   "metadata": {},
   "outputs": [],
   "source": [
    "# code here\n",
    "\n",
    "X_train, X_test, Y_train, Y_test = train_test_split(bikes_df, y_values, test_size=0.3, random_state=42)\n",
    "\n",
    "X_train=X_train.to_numpy()\n",
    "X_test=X_test.to_numpy()\n",
    "\n",
    "Y_train=Y_train.to_numpy()\n",
    "Y_test=Y_test.to_numpy()\n",
    "\n",
    "Y_train=Y_train.reshape(-1,1)\n",
    "Y_test=Y_test.reshape(-1,1)\n"
   ]
  },
  {
   "attachments": {},
   "cell_type": "markdown",
   "metadata": {},
   "source": [
    "### Gradient Descent\n",
    "Complete the following functions to run linear regression. \"y_pred\" represents the array of predicted target values that we will get while \"y_true\" represents the array of labels that we are already provided with."
   ]
  },
  {
   "cell_type": "code",
   "execution_count": 249,
   "metadata": {},
   "outputs": [],
   "source": [
    "### Gradient Descent\n",
    "from decimal import Decimal \n",
    "#Complete the following functions to run linear regression. \"y_pred\" represents the array of predicted target values that we will get while \"y_true\" represents the array of labels that we are already provided with.\n",
    "def mean_squared_error(y_pred, y_true): # y_pred is the array of the values we get after we multiply weights with the attributes ( h(x) ), and y_true is an array of true labels\n",
    "\n",
    "    error = y_true-y_pred\n",
    "\n",
    "    sum_error_square=0\n",
    "\n",
    "    for i in range(len(error)):\n",
    "        sum_error_square+=(error[i]**2)\n",
    "\n",
    "    mse=0.0\n",
    "\n",
    "    mse=(sum_error_square)/len(error)\n",
    "\n",
    "    return mse\n",
    "\n",
    "    \n",
    "\n",
    "\n",
    "def gradient_des(x, thetas, y_pred, y_true, alpha):\n",
    "    \n",
    "    n = len(thetas)\n",
    "    \n",
    "    \n",
    "    error = y_true-y_pred #L(x)   LOSS FUNCTION\n",
    "    \n",
    "    f_array=[0, 0, 0, 0, 0, 0, 0, 0, 0]\n",
    "    delta_error = np.array(f_array)\n",
    "    delta_error = delta_error.T\n",
    "    \n",
    "    delta_error=delta_error.reshape(-1,1)\n",
    "\n",
    "    for i in range(len(thetas)):\n",
    "        delta_error[i] = -x[:,i].T @ error\n",
    "    \n",
    "    next_theta = thetas\n",
    "    \n",
    "    for i in range(len(thetas)):\n",
    "        next_theta[i] = thetas[i] - (alpha * delta_error[i])\n",
    "    \n",
    "    \n",
    "    new_loss=mean_squared_error(y_pred,y_true) / len(x)\n",
    "    \n",
    "    return next_theta,new_loss\n",
    "    # code here and return both thetas and the losses\n",
    "    # returning both is important for visualising the losses"
   ]
  },
  {
   "attachments": {},
   "cell_type": "markdown",
   "metadata": {},
   "source": [
    "### Regression\n",
    "For the specified number of epochs, run the regression and store the losses and corresponding thetas for each epoch"
   ]
  },
  {
   "cell_type": "code",
   "execution_count": 250,
   "metadata": {},
   "outputs": [
    {
     "name": "stderr",
     "output_type": "stream",
     "text": [
      "/tmp/ipykernel_18673/1942147767.py:36: RuntimeWarning: invalid value encountered in cast\n",
      "  delta_error[i] = -x[:,i].T @ error\n"
     ]
    }
   ],
   "source": [
    "\n",
    "epochs = 100  # you are free to play around with this number\n",
    "theta = ... # initialize an np array of zeros based on the shape of the training sample\n",
    "\n",
    "ones_coloumn=np.ones((len(X_train),1))\n",
    "\n",
    "X_train=np.hstack((ones_coloumn,X_train))\n",
    "\n",
    "\n",
    "theta=np.zeros((len(X_train[0]),1))\n",
    "\n",
    "# print(theta.shape)\n",
    "\n",
    "learning_rate = 0.1\n",
    "\n",
    "losses = []\n",
    "# print(theta.shape)\n",
    "\n",
    "\n",
    "# code here\n",
    "for i in range(epochs):\n",
    "    y_pred= np.dot(X_train,theta) #change to for loop\n",
    "    theta,loss = gradient_des(X_train,theta,y_pred,Y_train,learning_rate)\n",
    "    # print(\"theta\",theta)\n",
    "    losses.append(loss)\n",
    "    # break\n",
    "losses.reverse()\n",
    "    \n"
   ]
  },
  {
   "attachments": {},
   "cell_type": "markdown",
   "metadata": {},
   "source": [
    "### Visualizing the losses\n",
    "You can run the following cell to see how your losses change with each epoch."
   ]
  },
  {
   "cell_type": "code",
   "execution_count": 251,
   "metadata": {},
   "outputs": [
    {
     "data": {
      "image/png": "[encoded data removed]",
      "text/plain": [
       "<Figure size 640x480 with 1 Axes>"
      ]
     },
     "metadata": {},
     "output_type": "display_data"
    }
   ],
   "source": [
    "\n",
    "plt.plot(list(range(len(losses))), losses)\n",
    "plt.title(\"Loss Plot\")\n",
    "plt.xlabel(\"Epochs\")\n",
    "plt.ylabel(\"MSE Loss\")\n",
    "plt.show()\n",
    "\n"
   ]
  },
  {
   "attachments": {},
   "cell_type": "markdown",
   "metadata": {},
   "source": [
    "### Testing the model\n",
    "Now use the final thetas that you got to find the accuracy of the regressor on our test dataset."
   ]
  },
  {
   "cell_type": "code",
   "execution_count": 252,
   "metadata": {},
   "outputs": [
    {
     "name": "stdout",
     "output_type": "stream",
     "text": [
      "Model is OverFitting\n"
     ]
    }
   ],
   "source": [
    "# code here\n",
    "\n",
    "ones_coloumn=np.ones((len(X_test),1))\n",
    "\n",
    "X_test=np.hstack((ones_coloumn,X_test))\n",
    "\n",
    "y_pred_test = np.dot(X_test,theta)\n",
    "\n",
    "mean_square_error_test=mean_squared_error(y_pred_test,Y_test)\n",
    "\n",
    "test_loss = mean_square_error_test/len(X_test) \n",
    "\n",
    "if(test_loss>losses[0]):\n",
    "    print(\"Model is OverFitting\")\n",
    "else:\n",
    "    print(\"Model is not OverFitting\")"
   ]
  },
  {
   "attachments": {},
   "cell_type": "markdown",
   "metadata": {},
   "source": [
    "# LOGISTIC REGRESSION"
   ]
  },
  {
   "attachments": {},
   "cell_type": "markdown",
   "metadata": {},
   "source": [
    "## Dataset [5 marks]\n",
    "For this part, we will use the iris dataset provided by sklearn. The dataset library has already been imported in first cell. Use this library to import the iris dataset along with its labels. "
   ]
  },
  {
   "cell_type": "code",
   "execution_count": 253,
   "metadata": {},
   "outputs": [],
   "source": [
    "# code here\n",
    "from sklearn import datasets\n",
    "\n",
    "iris=datasets.load_iris()\n",
    "# print(iris)\n",
    "# print(iris.data[0])\n",
    "# print(iris.target.shape)\n",
    "# print(iris.target)\n",
    "\n",
    "iris_data=iris.data\n",
    "iris_labels=iris.target"
   ]
  },
  {
   "attachments": {},
   "cell_type": "markdown",
   "metadata": {},
   "source": [
    "### Splitting and changing the dataset\n",
    "There are two tasks that you have to perform in this task:\n",
    "1. This dataset contains 3 classes of iris. Irir setosa is linearly seperable from the other two. In you target (labels) array, you have three label values: 0, 1 and 2. Using the information given in the iris dataset, identify which one of these represents Iris Setosa and chage your target values such that instead of having 3 label values, you only have two, where 0 would represent the class Iris Setosa while 1 would mean that the class is not Iris Setosa. \n",
    "2. Now that we have the features and the labels extracted, once again make test and train datasets for logistic regression using a 70 30 split. Make sure that the data is properly shuffled."
   ]
  },
  {
   "cell_type": "code",
   "execution_count": 254,
   "metadata": {},
   "outputs": [],
   "source": [
    "# code here\n",
    "# x_train, x_test, y_train, y_test = train_test_split(iris_data, iris_labels, test_size=0.3, random_state=42, stratify=iris_labels)\n",
    "\n",
    "# y_train=np.array(y_train)\n",
    "# x_train=np.array(x_train)\n",
    "\n",
    "import random\n",
    "\n",
    "for i in range(len(iris_labels)):\n",
    "    if(iris_labels[i]!=0):\n",
    "        iris_labels[i]=1\n",
    "\n",
    "zeros=[]\n",
    "ones=[]\n",
    "for i in range(len(iris_labels)):\n",
    "    if(iris_labels[i]==0):\n",
    "        zeros.append(iris_data[i])\n",
    "    else:\n",
    "        ones.append(iris_data[i])\n",
    "\n",
    "# print(len(zeros))\n",
    "# print(len(ones))\n",
    "\n",
    "random.shuffle(zeros)\n",
    "random.shuffle(ones)\n",
    "\n",
    "x_train=zeros[:35]\n",
    "x_train.extend(ones[:70])\n",
    "\n",
    "# print(len(x_train))\n",
    "\n",
    "y_train=np.zeros((len(zeros[:35])))\n",
    "y_train=np.hstack((y_train,np.ones( (len(ones[:70]) ) ) ))\n",
    "\n",
    "x_test=zeros[35:]\n",
    "x_test.extend(ones[70:])\n",
    "\n",
    "y_test=np.zeros((len(zeros[35:])))\n",
    "y_test=np.hstack((y_test,np.ones( (len(ones[70:]) ) ) ))\n",
    "\n",
    "# print(len(x_train))\n",
    "y_train=np.array(y_train)\n",
    "x_train=np.array(x_train)\n",
    "\n",
    "y_test=np.array(y_test)\n",
    "x_test=np.array(x_test)\n",
    "\n",
    "y_train=y_train.reshape(-1,1)\n",
    "\n",
    "y_test=y_test.reshape(-1,1)\n",
    "\n",
    "# print(y_test.shape)\n",
    "# print(y_train.shape)\n",
    "\n",
    "# print(\"xtest\",x_test.shape)\n",
    "# print(\"xtrain\",x_train.shape)\n",
    "# print(iris_labels)\n"
   ]
  },
  {
   "attachments": {},
   "cell_type": "markdown",
   "metadata": {},
   "source": [
    "## Logistic Regression by Scratch [15 marks]\n",
    "We are now going to perform logistic regression by scratch on our training dataset. Complete the following functions."
   ]
  },
  {
   "cell_type": "code",
   "execution_count": 255,
   "metadata": {},
   "outputs": [],
   "source": [
    "def binary_cross_entropy_loss(y_pred, y_true):\n",
    "    # code here\n",
    "    \n",
    "    a = np.dot(y_true.T,np.log(y_pred))\n",
    "    b = np.dot((1-y_true).T,np.log(1-y_pred))\n",
    "    error = -(a+b)\n",
    "    \n",
    "    return error\n",
    "    \n",
    "\n",
    "\n",
    "def sigmoid(x):\n",
    "    return 1/(1+np.exp(-x))\n",
    "\n",
    "\n",
    "def gradient_des(x, thetas, h_x, y, alpha):\n",
    "    m = x.shape[0]\n",
    "    gradient = (1/m)*np.dot(x.T,(h_x-y))\n",
    "    thetas = thetas - alpha*gradient\n",
    "    loss = binary_cross_entropy_loss(h_x,y)\n",
    "    return thetas,loss\n",
    "    # code here and return both thetas and the losses\n",
    "    # returning both is important for visualising the losses\n"
   ]
  },
  {
   "attachments": {},
   "cell_type": "markdown",
   "metadata": {},
   "source": [
    "### Logistic Regression\n",
    "For the specified number of epochs, run the logistic regression and store the losses and corresponding thetas for each epoch"
   ]
  },
  {
   "cell_type": "code",
   "execution_count": 256,
   "metadata": {},
   "outputs": [],
   "source": [
    "epochs = 100  # you are free to play around with this number\n",
    "theta =  ... # initialize an np array of zeros based on the shape of the training sample\n",
    "theta = np.zeros((x_train.shape[1], 1))\n",
    "\n",
    "losses = []\n",
    "alpha=0.2\n",
    "# print(x_train.shape)\n",
    "# print(y_train.shape)\n",
    "# print(x_train)\n",
    "for i in range(epochs):\n",
    "    h_x = sigmoid(np.dot(x_train,theta))\n",
    "    # print(\"h_x shape:\",h_x.shape)\n",
    "    # print(h_x)\n",
    "    theta,loss = gradient_des(x_train,theta,h_x,y_train,alpha)\n",
    "    # loss=np.sum(loss)/len(losses)\n",
    "    losses.extend(loss)\n",
    "# code here\n",
    "# print(losses)   \n"
   ]
  },
  {
   "cell_type": "markdown",
   "metadata": {},
   "source": [
    "### Visualizing the losses\n",
    "You can run the following cell to see how your losses change with each epoch."
   ]
  },
  {
   "cell_type": "code",
   "execution_count": 257,
   "metadata": {},
   "outputs": [
    {
     "data": {
      "image/png": "[encoded data removed]",
      "text/plain": [
       "<Figure size 640x480 with 1 Axes>"
      ]
     },
     "metadata": {},
     "output_type": "display_data"
    }
   ],
   "source": [
    "# print(losses)\n",
    "plt.plot(list(range(len(losses))), losses)\n",
    "plt.title(\"Loss against Epochs\")\n",
    "plt.xlabel(\"Epochs\")\n",
    "plt.ylabel(\"Cross Entropy Loss\")\n",
    "plt.show()"
   ]
  },
  {
   "attachments": {},
   "cell_type": "markdown",
   "metadata": {},
   "source": [
    "## K-Fold Cross Validation [15 marks]\n",
    "As you might have noticed, our iris training set is not that big (with only 105 values). To make our model perform better, we are going to implement k-fold cross-validation.\n",
    "\n",
    "In k cross-validation, you divide your training set into k parts and use k-1 of them for training, while one part is used for validation. We then rerun this k times, where each time, a different part from the total of k parts is used for validation. Note that the test data set still remains completely seperate.\n",
    "\n",
    "This will result in you having k different weights (one for each fold). In the end, take na average of all the weights and those will be your final weights."
   ]
  },
  {
   "cell_type": "code",
   "execution_count": 258,
   "metadata": {},
   "outputs": [
    {
     "name": "stdout",
     "output_type": "stream",
     "text": [
      "losses: [83.17766166719345, 82.76018763735837, 82.35394965146673, 81.95860794122078, 81.5738319289386, 81.19930010061259, 80.8346998692569, 80.47972742976528, 80.13408760641957, 79.79749369411434, 79.469667294287, 79.15033814647173, 78.83924395632447, 78.53613022090168, 78.24075005190967, 77.95286399758247, 77.67223986378733, 77.39865253490389, 77.13188379497063, 76.87172214954455, 76.61796264867493, 76.3704067113494, 76.1288619517315, 75.89314200747175, 75.66306637034089, 75.43846021940149, 75.21915425690614, 75.0049845470825, 74.79579235794147, 74.59142400622214, 74.39173070556603, 74.19656841799491, 74.00579770874828, 73.81928360452258, 73.63689545513827, 73.45850679864982, 73.28399522990105, 73.11324227251845, 72.94613325432655, 72.78255718615989, 72.6224066440403, 72.4655776546814, 72.31196958427633, 72.16148503052047, 72.01402971781658, 71.86951239560611, 71.72784473976783, 71.58894125702193, 71.45271919227639, 71.31909843885015, 71.188001451507, 71.05935316223281, 70.9330808986883, 70.8091143052693, 70.68738526670612, 70.5678278341345, 70.45037815356964, 70.33497439671706, 70.22155669405305, 70.11006707010938, 70.00044938089736, 69.89264925340743, 69.78661402712146, 69.68229269747647, 69.57963586121895, 69.47859566359116, 69.37912574729117, 69.28118120315054, 69.18471852247417, 69.08969555098884, 68.99607144434776, 68.9038066251405, 68.81286274135815, 68.72320262626599, 68.63479025963632, 68.54759073029626, 68.46157019994598, 68.37669586820472, 68.29293593884279, 68.21025958715948, 68.12863692846754, 68.04803898764652, 67.96843766972836, 67.88980573147961, 67.81211675394634, 67.73534511592784, 67.65946596834783, 67.58445520949158, 67.51028946107905, 67.43694604514539, 67.36440296170005, 67.29263886713835, 67.2216330533787, 67.15136542770043, 67.08181649325795, 67.01296733024766, 66.9447995777047, 66.87729541590802, 66.8104375493722, 66.74420919040583]\n",
      "thetas: [0.0008328125000000001, 0.0016534409200035034, 0.0024620719781138427, 0.003258890824193653, 0.004044080946627642, 0.0048178240873790685, 0.0055803001649581425, 0.006331687204923175, 0.007072161277539585, 0.007801896442227764, 0.008521064698437915, 0.009229835942598186, 0.009928377930791665, 0.01061685624682764, 0.011295434275383147, 0.011964273179901725, 0.012623531884947813, 0.013273367062726669, 0.01391393312349154, 0.01454538220957158, 0.01516786419276581, 0.01578152667486015, 0.01638651499103603, 0.016982972215950604, 0.01757103917227963, 0.018150854441525033, 0.018722554376899684, 0.019286273118112394, 0.019842142607885773, 0.020390292610049515, 0.020930850729060757, 0.021463942430812014, 0.021989691064595862, 0.022508217886103552, 0.02301964208134266, 0.023524080791366208, 0.024021649137712823, 0.024512460248464298, 0.0249966252848332, 0.025474253468199315, 0.025945452107519473, 0.02641032662704073, 0.02686898059425196, 0.02732151574801386, 0.027768032026811898, 0.028208627597081072, 0.028643398881555274, 0.029072440587598166, 0.029495845735475656, 0.029913705686533794, 0.03032611017124876, 0.03073314731711883, 0.03113490367637072, 0.03153146425345544, 0.0319229125323112, 0.03230933050337304, 0.032690798690311114, 0.03306739617648131, 0.03343920063107397, 0.03380628833494789, 0.03416873420613847, 0.0345266118250304, 0.034879993459186555, 0.03522895008782592, 0.035573551425944705, 0.03591386594807575, 0.03624996091168235, 0.036581902380183516, 0.03690975524560852, 0.037233583250879373, 0.037553449011720544, 0.03786941403819585, 0.038181538755873184, 0.038489882526617954, 0.03879450366901715, 0.03909545947843567, 0.03939280624670761, 0.0396865992814652, 0.0399768929251085, 0.04026374057341921, 0.04054719469382243, 0.04082730684330006, 0.04110412768596004, 0.04137770701026573, 0.04164809374592991, 0.0419153359804778, 0.04217948097548409, 0.04244057518248846, 0.04269866425859478, 0.042953793081758646, 0.04320600576576848, 0.043455345674925205, 0.04370185543842536, 0.043945576964453115, 0.044186551453985895, 0.044424819414318945, 0.04466042067231398, 0.04489339438737669, 0.045123779064168486, 0.04535161256505728]\n"
     ]
    }
   ],
   "source": [
    "from sklearn.model_selection import KFold\n",
    "# print(iris.data.shape)\n",
    "\n",
    "k = 5 # we are going to keep k as 5 for this example but your code should not hardocde this value\n",
    "# code here the k-fold cross validation for the iris training dataset\n",
    "k_data=KFold(n_splits=k,shuffle=True)\n",
    "\n",
    "for train_i,test_i in k_data.split(iris_data):\n",
    "    # print(t_i)\n",
    "    # print(te_i)\n",
    "    x_train=[]\n",
    "    y_train=[]\n",
    "\n",
    "    x_test=[]\n",
    "    y_test=[]\n",
    "\n",
    "    for i in train_i:\n",
    "        x_train.append(iris_data[i])\n",
    "        y_train.append(iris_labels[i])\n",
    "\n",
    "    for j in test_i:\n",
    "        x_test.append(iris_data[j])\n",
    "        y_test.append(iris_labels[j])\n",
    "    \n",
    "    x_test=np.array(x_test)\n",
    "    x_train=np.array(x_train)\n",
    "\n",
    "    y_test=np.array(y_test)\n",
    "    y_train=np.array(y_train)\n",
    "\n",
    "    y_test=y_test.reshape(-1,1)\n",
    "    y_train=y_train.reshape(-1,1)\n",
    "\n",
    "    epochs = 100  # you are free to play around with this number\n",
    "    theta =  ... # initialize an np array of zeros based on the shape of the training sample\n",
    "    theta = np.zeros((x_train.shape[1], 1))\n",
    "    \n",
    "    losses = []\n",
    "    thetas=[]\n",
    "    alpha=0.001\n",
    "    sum=0\n",
    "\n",
    "    for i in range(epochs):\n",
    "        h_x = sigmoid(np.dot(x_train,theta))\n",
    "        theta,loss = gradient_des(x_train,theta,h_x,y_train,alpha)\n",
    "        \n",
    "        losses.extend(loss[0])\n",
    "        \n",
    "        sum=np.sum(theta)/len(theta)\n",
    "\n",
    "        thetas.append(sum)\n",
    "\n",
    "print(\"losses:\",losses)\n",
    "print(\"thetas:\",thetas)\n",
    "\n",
    "\n",
    "    \n",
    "\n",
    "\n",
    "    "
   ]
  },
  {
   "attachments": {},
   "cell_type": "markdown",
   "metadata": {},
   "source": [
    "Use the final averaged weights on the test data and report the Binary Cross Entroly Loss."
   ]
  },
  {
   "cell_type": "code",
   "execution_count": 259,
   "metadata": {},
   "outputs": [
    {
     "name": "stdout",
     "output_type": "stream",
     "text": [
      "losses: [83.17766166719345, 82.76018763735837, 82.35394965146673, 81.95860794122078, 81.5738319289386, 81.19930010061259, 80.8346998692569, 80.47972742976528, 80.13408760641957, 79.79749369411434, 79.469667294287, 79.15033814647173, 78.83924395632447, 78.53613022090168, 78.24075005190967, 77.95286399758247, 77.67223986378733, 77.39865253490389, 77.13188379497063, 76.87172214954455, 76.61796264867493, 76.3704067113494, 76.1288619517315, 75.89314200747175, 75.66306637034089, 75.43846021940149, 75.21915425690614, 75.0049845470825, 74.79579235794147, 74.59142400622214, 74.39173070556603, 74.19656841799491, 74.00579770874828, 73.81928360452258, 73.63689545513827, 73.45850679864982, 73.28399522990105, 73.11324227251845, 72.94613325432655, 72.78255718615989, 72.6224066440403, 72.4655776546814, 72.31196958427633, 72.16148503052047, 72.01402971781658, 71.86951239560611, 71.72784473976783, 71.58894125702193, 71.45271919227639, 71.31909843885015, 71.188001451507, 71.05935316223281, 70.9330808986883, 70.8091143052693, 70.68738526670612, 70.5678278341345, 70.45037815356964, 70.33497439671706, 70.22155669405305, 70.11006707010938, 70.00044938089736, 69.89264925340743, 69.78661402712146, 69.68229269747647, 69.57963586121895, 69.47859566359116, 69.37912574729117, 69.28118120315054, 69.18471852247417, 69.08969555098884, 68.99607144434776, 68.9038066251405, 68.81286274135815, 68.72320262626599, 68.63479025963632, 68.54759073029626, 68.46157019994598, 68.37669586820472, 68.29293593884279, 68.21025958715948, 68.12863692846754, 68.04803898764652, 67.96843766972836, 67.88980573147961, 67.81211675394634, 67.73534511592784, 67.65946596834783, 67.58445520949158, 67.51028946107905, 67.43694604514539, 67.36440296170005, 67.29263886713835, 67.2216330533787, 67.15136542770043, 67.08181649325795, 67.01296733024766, 66.9447995777047, 66.87729541590802, 66.8104375493722, 66.74420919040583]\n",
      "thetas: [0.0008328125000000001, 0.0016534409200035034, 0.0024620719781138427, 0.003258890824193653, 0.004044080946627642, 0.0048178240873790685, 0.0055803001649581425, 0.006331687204923175, 0.007072161277539585, 0.007801896442227764, 0.008521064698437915, 0.009229835942598186, 0.009928377930791665, 0.01061685624682764, 0.011295434275383147, 0.011964273179901725, 0.012623531884947813, 0.013273367062726669, 0.01391393312349154, 0.01454538220957158, 0.01516786419276581, 0.01578152667486015, 0.01638651499103603, 0.016982972215950604, 0.01757103917227963, 0.018150854441525033, 0.018722554376899684, 0.019286273118112394, 0.019842142607885773, 0.020390292610049515, 0.020930850729060757, 0.021463942430812014, 0.021989691064595862, 0.022508217886103552, 0.02301964208134266, 0.023524080791366208, 0.024021649137712823, 0.024512460248464298, 0.0249966252848332, 0.025474253468199315, 0.025945452107519473, 0.02641032662704073, 0.02686898059425196, 0.02732151574801386, 0.027768032026811898, 0.028208627597081072, 0.028643398881555274, 0.029072440587598166, 0.029495845735475656, 0.029913705686533794, 0.03032611017124876, 0.03073314731711883, 0.03113490367637072, 0.03153146425345544, 0.0319229125323112, 0.03230933050337304, 0.032690798690311114, 0.03306739617648131, 0.03343920063107397, 0.03380628833494789, 0.03416873420613847, 0.0345266118250304, 0.034879993459186555, 0.03522895008782592, 0.035573551425944705, 0.03591386594807575, 0.03624996091168235, 0.036581902380183516, 0.03690975524560852, 0.037233583250879373, 0.037553449011720544, 0.03786941403819585, 0.038181538755873184, 0.038489882526617954, 0.03879450366901715, 0.03909545947843567, 0.03939280624670761, 0.0396865992814652, 0.0399768929251085, 0.04026374057341921, 0.04054719469382243, 0.04082730684330006, 0.04110412768596004, 0.04137770701026573, 0.04164809374592991, 0.0419153359804778, 0.04217948097548409, 0.04244057518248846, 0.04269866425859478, 0.042953793081758646, 0.04320600576576848, 0.043455345674925205, 0.04370185543842536, 0.043945576964453115, 0.044186551453985895, 0.044424819414318945, 0.04466042067231398, 0.04489339438737669, 0.045123779064168486, 0.04535161256505728]\n"
     ]
    }
   ],
   "source": [
    "# code here\n",
    "print(\"losses:\",losses)\n",
    "print(\"thetas:\",thetas)"
   ]
  },
  {
   "attachments": {},
   "cell_type": "markdown",
   "metadata": {},
   "source": [
    "### Question: \n",
    "Did the cross-validation help in making the model better? Why or why not?\n",
    "\n",
    "### ANSWER here:\n"
   ]
  },
  {
   "attachments": {},
   "cell_type": "markdown",
   "metadata": {},
   "source": [
    "## Logistic Regression using Libraries [5 marks]"
   ]
  },
  {
   "cell_type": "code",
   "execution_count": 260,
   "metadata": {},
   "outputs": [],
   "source": [
    "import sklearn.linear_model as sl\n",
    "from sklearn.metrics import log_loss"
   ]
  },
  {
   "attachments": {},
   "cell_type": "markdown",
   "metadata": {},
   "source": [
    "Now use the above provided libraries to implement [Logistic Regression](https://scikit-learn.org/stable/modules/generated/sklearn.linear_model.LogisticRegression.html) and use the [Cross Entropy Loss](https://scikit-learn.org/stable/modules/generated/sklearn.metrics.log_loss.html) to report loss on the test dataset. "
   ]
  },
  {
   "cell_type": "code",
   "execution_count": 261,
   "metadata": {},
   "outputs": [
    {
     "name": "stdout",
     "output_type": "stream",
     "text": [
      "2.2204460492503136e-16\n"
     ]
    },
    {
     "name": "stderr",
     "output_type": "stream",
     "text": [
      "/home/dell/.local/lib/python3.10/site-packages/sklearn/utils/validation.py:1143: DataConversionWarning: A column-vector y was passed when a 1d array was expected. Please change the shape of y to (n_samples, ), for example using ravel().\n",
      "  y = column_or_1d(y, warn=True)\n"
     ]
    }
   ],
   "source": [
    "# code here\n",
    "regr = sl.LogisticRegression()\n",
    "regr.fit(x_train,y_train)\n",
    "\n",
    "y_hat_test = regr.predict(x_test)\n",
    "\n",
    "loss = log_loss(y_test,y_hat_test)\n",
    "print(loss)"
   ]
  },
  {
   "attachments": {},
   "cell_type": "markdown",
   "metadata": {},
   "source": [
    "# SVMs [20 marks]"
   ]
  },
  {
   "attachments": {},
   "cell_type": "markdown",
   "metadata": {},
   "source": [
    "We are now going to use the SVM library by sklearn on the iris dataset we used for logistic regression. You can either use the same variables, or make a new cell here and import the datset again. However, for the SVM classifier, we are going to extract only the first two features, `Sepal length` and `Sepal width`. "
   ]
  },
  {
   "cell_type": "code",
   "execution_count": 262,
   "metadata": {},
   "outputs": [],
   "source": [
    "# code here to get the iris datset with labels and only the first two features (\"Sepal length\" and \"Sepal width\")\n",
    "from sklearn import svm\n",
    "\n",
    "\n",
    "iris = datasets.load_iris()\n",
    "x = iris.data[:,:2]\n",
    "y = iris.target\n",
    "\n",
    "x_train, x_test, y_train, y_test = train_test_split(x, y, test_size = 0.30,random_state=42)\n",
    "# print(x)\n",
    "# print(y)\n"
   ]
  },
  {
   "attachments": {},
   "cell_type": "markdown",
   "metadata": {},
   "source": [
    "## Training and Visualisation\n",
    "Train the SVM using the iris dataset and make a plot similar to the one shown in the manual. To make the plot, you are going to have to look into the following functions:\n",
    "- np.meshgrid\n",
    "- plt.scatter\n",
    "- plt.contourf\n",
    "\n",
    "However, you are free to use any functions and libraries that you want to use.\n",
    "\n",
    "Make three different plits for the following three kernels of SVMs: linear, poly, and rbf.\n",
    "You are free to play around with SVM parameters like C (regulization parameter) and gamma."
   ]
  },
  {
   "cell_type": "code",
   "execution_count": 263,
   "metadata": {},
   "outputs": [
    {
     "name": "stdout",
     "output_type": "stream",
     "text": [
      "0.8222222222222222\n",
      "0.8222222222222222\n",
      "0.8222222222222222\n"
     ]
    },
    {
     "data": {
      "image/png": "[encoded data removed]",
      "text/plain": [
       "<Figure size 250x800 with 3 Axes>"
      ]
     },
     "metadata": {},
     "output_type": "display_data"
    }
   ],
   "source": [
    "kernels = [\"linear\", \"poly\", \"rbf\"]\n",
    "# code here\n",
    "'''\n",
    "1. Use the dataset to train the SVM\n",
    "2. Create a mesh\n",
    "3. Get the predicted values\n",
    "4. Plot the graph\n",
    "'''\n",
    "Linear_SVM = svm.SVC(kernel=\"linear\",C=0.2)\n",
    "\n",
    "Poly_SVM = svm.SVC(kernel='poly', degree=4, C=1)\n",
    "\n",
    "RBF_SVM = svm.SVC(kernel='rbf', gamma=0.7, C=1) \n",
    "\n",
    "RBF_SVM.fit(x,y)\n",
    "Linear_SVM.fit(x,y)\n",
    "Poly_SVM.fit(x,y)\n",
    "\n",
    "print(RBF_SVM.score(x_test,y_test))\n",
    "print(Linear_SVM.score(x_test,y_test))\n",
    "print(Poly_SVM.score(x_test,y_test))\n",
    "\n",
    "h=0.02\n",
    "colors=\"byr\"\n",
    "\n",
    "x_min, x_max = x[:, 0].min() - 1, x[:, 0].max() + 1\n",
    "y_min, y_max = x[:, 1].min() - 1, x[:, 1].max() + 1\n",
    "xx, yy = np.meshgrid(np.arange(x_min, x_max, h),np.arange(y_min, y_max, h))\n",
    "\n",
    "\n",
    "Z = RBF_SVM.predict(np.c_[xx.ravel(), yy.ravel()])\n",
    "X=Linear_SVM.predict(np.c_[xx.ravel(), yy.ravel()])\n",
    "Y=Poly_SVM.predict(np.c_[xx.ravel(), yy.ravel()])\n",
    "\n",
    "\n",
    "\n",
    "# Put the result into a color plot\n",
    "Z = Z.reshape(xx.shape)\n",
    "X = X.reshape(xx.shape)\n",
    "Y = Y.reshape(xx.shape)\n",
    "\n",
    "\n",
    "\n",
    "fig,axes = plt.subplots(nrows=3, ncols=1, figsize=(2.5, 8))\n",
    "\n",
    "axes[2].contourf(xx, yy, Z, cmap=plt.cm.coolwarm)\n",
    "for i, color in zip(Poly_SVM.classes_, colors):\n",
    "    idx = np.where(y == i)\n",
    "    axes[2].scatter(x[idx, 0], x[idx, 1], c=color, label=y[i],edgecolors=\"k\")\n",
    "axes[2].set_title(\"RBF SVM\")\n",
    "\n",
    "axes[0].contourf(xx, yy, X, cmap=plt.cm.coolwarm)\n",
    "\n",
    "for i, color in zip(Linear_SVM.classes_, colors):\n",
    "    idx = np.where(y == i)\n",
    "    axes[0].scatter(x[idx, 0], x[idx, 1], c=color, label=y[i],edgecolors=\"k\")\n",
    "    \n",
    "axes[0].set_title(\"Linear SVM\")\n",
    "\n",
    "axes[1].contourf(xx, yy, Y, cmap=plt.cm.coolwarm)\n",
    "\n",
    "for i, color in zip(Poly_SVM.classes_, colors):\n",
    "    idx = np.where(y == i)\n",
    "    axes[1].scatter(x[idx, 0], x[idx, 1], c=color, label=y[i],edgecolors=\"k\")\n",
    "    \n",
    "axes[1].set_title(\"Poly SVM\")\n",
    "\n",
    "\n",
    "xmin, xmax = plt.xlim()\n",
    "ymin, ymax = plt.ylim()\n",
    "\n",
    "plt.show()\n",
    "\n"
   ]
  },
  {
   "attachments": {},
   "cell_type": "markdown",
   "metadata": {},
   "source": [
    "## Testing the SVMs\n",
    "Using the train-test split of 70-30, find the accuracies for all three SVMs. "
   ]
  },
  {
   "cell_type": "code",
   "execution_count": 264,
   "metadata": {},
   "outputs": [
    {
     "name": "stdout",
     "output_type": "stream",
     "text": [
      "Accuracy using Linear: 0.6888888888888889\n",
      "Accuracy using Poly: 0.6444444444444445\n",
      "Accuracy using RBF: 0.7111111111111111\n"
     ]
    }
   ],
   "source": [
    "# code here\n",
    "from sklearn.metrics import accuracy_score\n",
    "x_train, x_test, y_train, y_test = train_test_split(x, y, test_size = 0.30,random_state=20)\n",
    "\n",
    "Linear_SVM = svm.SVC(kernel=\"linear\",C=0.2)\n",
    "\n",
    "Poly_SVM = svm.SVC(kernel='poly', degree=4, C=1)\n",
    "\n",
    "RBF_SVM = svm.SVC(kernel='rbf', gamma=0.7, C=1) \n",
    "\n",
    "RBF_SVM.fit(x_train, y_train)\n",
    "Linear_SVM.fit(x_train, y_train)\n",
    "Poly_SVM.fit(x_train, y_train)\n",
    "\n",
    "pred1 = Linear_SVM.predict(x_test)\n",
    "pred2 = Poly_SVM.predict(x_test)\n",
    "pred3 = RBF_SVM.predict(x_test)\n",
    "\n",
    "print(\"Accuracy using Linear:\", accuracy_score(pred1, y_test))\n",
    "print(\"Accuracy using Poly:\", accuracy_score(pred2, y_test))\n",
    "print(\"Accuracy using RBF:\", accuracy_score(pred3, y_test))"
   ]
  },
  {
   "attachments": {},
   "cell_type": "markdown",
   "metadata": {},
   "source": [
    "### Question: \n",
    "Which kernel gave the highest accuracy? Why is that the case?\n",
    "### ANSWER here:\n"
   ]
  }
 ],
 "metadata": {
  "kernelspec": {
   "display_name": "Python 3",
   "language": "python",
   "name": "python3"
  },
  "language_info": {
   "codemirror_mode": {
    "name": "ipython",
    "version": 3
   },
   "file_extension": ".py",
   "mimetype": "text/x-python",
   "name": "python",
   "nbconvert_exporter": "python",
   "pygments_lexer": "ipython3",
   "version": "3.10.6"
  },
  "orig_nbformat": 4,
  "vscode": {
   "interpreter": {
    "hash": "8a5edab282632443219e051e4ade2d1d5bbc671c781051bf1437897cbdfea0f1"
   }
  }
 },
 "nbformat": 4,
 "nbformat_minor": 2
}
